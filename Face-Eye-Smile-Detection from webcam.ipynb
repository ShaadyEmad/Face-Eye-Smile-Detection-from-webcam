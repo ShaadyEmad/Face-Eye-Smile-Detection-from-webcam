{
 "cells": [
  {
   "cell_type": "code",
   "execution_count": 3,
   "id": "666aa7ec",
   "metadata": {},
   "outputs": [],
   "source": [
    "import cv2\n",
    "import numpy as np\n",
    "\n",
    "cap = cv2.VideoCapture(0)\n",
    "\n",
    "faceClassifier=cv2.CascadeClassifier(cv2.data.haarcascades+'haarcascade_frontalface_default.xml')\n",
    "eyeClassifier=cv2.CascadeClassifier(cv2.data.haarcascades+'haarcascade_eye.xml')\n",
    "smileClassifier=cv2.CascadeClassifier(cv2.data.haarcascades+'haarcascade_smile.xml')\n",
    "\n",
    "\n",
    "while(cap.isOpened()):\n",
    "    ret,frame=cap.read()\n",
    "    \n",
    "    if(ret):\n",
    "        gray=cv2.cvtColor(frame,cv2.COLOR_BGR2GRAY)\n",
    "        faces=faceClassifier.detectMultiScale(gray,scaleFactor=1.1,minNeighbors=10,minSize=(70,70))\n",
    "        \n",
    "        for x,y,w,h in faces:\n",
    "            cv2.rectangle(frame,(x,y),(x+w,y+h),(0,255,0),5)\n",
    "            cv2.putText(frame, 'me', (x+w+5, y+h), cv2.FONT_HERSHEY_SIMPLEX, 1, (0, 0, 255), 2, cv2.FILLED)\n",
    "            face=gray[y:y+h,x:x+w]\n",
    "            eyes=eyeClassifier.detectMultiScale(face,scaleFactor=1.01,minNeighbors=5,minSize=(50,50))\n",
    "            \n",
    "            for x2,y2,w2,h2 in eyes:\n",
    "                center = x+x2+w2 // 2, y+y2+h2 // 2\n",
    "                cv2.circle(frame,(center), w2//2,(0,255,0),3)\n",
    "                cv2.putText(frame, 'eye ', (x+x2+w2 // 2, y+y2+h2), cv2.FONT_HERSHEY_SIMPLEX, 1, (0, 0, 255), 2, cv2.FILLED)\n",
    "                smiles=smileClassifier.detectMultiScale(face,scaleFactor=1.2,minNeighbors=40,minSize=(50,50))\n",
    "                \n",
    "                for x3,y3,w3,h3 in smiles:\n",
    "                    cv2.rectangle(frame,(x+x3,y+y3),(x+x3+w3,y+y3+h3),(0,255,0),5)\n",
    "                    cv2.putText(frame, 'smile', (x+x3,y+y3), cv2.FONT_HERSHEY_SIMPLEX, 1, (0, 0, 255), 2, cv2.FILLED)\n",
    "                    \n",
    "                    \n",
    "    cv2.imshow(\"camera\",frame)\n",
    "    k=cv2.waitKey(1)\n",
    "    if k ==ord('q'):\n",
    "        break\n",
    "\n",
    "            \n",
    "        \n",
    "cap.release()\n",
    "cv2.destroyAllWindows()\n"
   ]
  },
  {
   "cell_type": "code",
   "execution_count": null,
   "id": "1e3a51d8",
   "metadata": {},
   "outputs": [],
   "source": []
  }
 ],
 "metadata": {
  "kernelspec": {
   "display_name": "Python 3 (ipykernel)",
   "language": "python",
   "name": "python3"
  },
  "language_info": {
   "codemirror_mode": {
    "name": "ipython",
    "version": 3
   },
   "file_extension": ".py",
   "mimetype": "text/x-python",
   "name": "python",
   "nbconvert_exporter": "python",
   "pygments_lexer": "ipython3",
   "version": "3.9.7"
  }
 },
 "nbformat": 4,
 "nbformat_minor": 5
}
